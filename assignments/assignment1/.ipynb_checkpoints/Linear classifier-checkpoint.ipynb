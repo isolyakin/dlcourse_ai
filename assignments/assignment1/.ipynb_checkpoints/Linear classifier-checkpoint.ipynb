{
 "cells": [
  {
   "cell_type": "markdown",
   "metadata": {},
   "source": [
    "# Задание 1.2 - Линейный классификатор (Linear classifier)\n",
    "\n",
    "В этом задании мы реализуем другую модель машинного обучения - линейный классификатор. Линейный классификатор подбирает для каждого класса веса, на которые нужно умножить значение каждого признака и потом сложить вместе.\n",
    "Тот класс, у которого эта сумма больше, и является предсказанием модели.\n",
    "\n",
    "В этом задании вы:\n",
    "- потренируетесь считать градиенты различных многомерных функций\n",
    "- реализуете подсчет градиентов через линейную модель и функцию потерь softmax\n",
    "- реализуете процесс тренировки линейного классификатора\n",
    "- подберете параметры тренировки на практике\n",
    "\n",
    "На всякий случай, еще раз ссылка на туториал по numpy:  \n",
    "http://cs231n.github.io/python-numpy-tutorial/"
   ]
  },
  {
   "cell_type": "code",
   "execution_count": 1,
   "metadata": {
    "collapsed": true
   },
   "outputs": [],
   "source": [
    "import numpy as np\n",
    "import matplotlib.pyplot as plt\n",
    "\n",
    "%matplotlib inline\n",
    "\n",
    "%load_ext autoreload\n",
    "%autoreload 2"
   ]
  },
  {
   "cell_type": "code",
   "execution_count": 2,
   "metadata": {
    "collapsed": true
   },
   "outputs": [],
   "source": [
    "from dataset import load_svhn, random_split_train_val\n",
    "from gradient_check import check_gradient\n",
    "from metrics import multiclass_accuracy \n",
    "import linear_classifer"
   ]
  },
  {
   "cell_type": "markdown",
   "metadata": {},
   "source": [
    "# Как всегда, первым делом загружаем данные\n",
    "\n",
    "Мы будем использовать все тот же SVHN."
   ]
  },
  {
   "cell_type": "code",
   "execution_count": 3,
   "metadata": {
    "collapsed": true
   },
   "outputs": [],
   "source": [
    "def prepare_for_linear_classifier(train_X, test_X):\n",
    "    train_flat = train_X.reshape(train_X.shape[0], -1).astype(np.float) / 255.0\n",
    "    test_flat = test_X.reshape(test_X.shape[0], -1).astype(np.float) / 255.0\n",
    "    \n",
    "    # Subtract mean\n",
    "    mean_image = np.mean(train_flat, axis = 0)\n",
    "    train_flat -= mean_image\n",
    "    test_flat -= mean_image\n",
    "    \n",
    "    # Add another channel with ones as a bias term\n",
    "    train_flat_with_ones = np.hstack([train_flat, np.ones((train_X.shape[0], 1))])\n",
    "    test_flat_with_ones = np.hstack([test_flat, np.ones((test_X.shape[0], 1))])    \n",
    "    return train_flat_with_ones, test_flat_with_ones\n",
    "    \n",
    "train_X, train_y, test_X, test_y = load_svhn(\"data\", max_train=10000, max_test=1000)    \n",
    "train_X, test_X = prepare_for_linear_classifier(train_X, test_X)\n",
    "# Split train into train and val\n",
    "train_X, train_y, val_X, val_y = random_split_train_val(train_X, train_y, num_val = 1000)"
   ]
  },
  {
   "cell_type": "markdown",
   "metadata": {},
   "source": [
    "# Играемся с градиентами!\n",
    "\n",
    "В этом курсе мы будем писать много функций, которые вычисляют градиенты аналитическим методом.\n",
    "\n",
    "Все функции, в которых мы будем вычислять градиенты будут написаны по одной и той же схеме.  \n",
    "Они будут получать на вход точку, где нужно вычислить значение и градиент функции, а на выходе будут выдавать кортеж (tuple) из двух значений - собственно значения функции в этой точке (всегда одно число) и аналитического значения градиента в той же точке (той же размерности, что и вход).\n",
    "```\n",
    "def f(x):\n",
    "    \"\"\"\n",
    "    Computes function and analytic gradient at x\n",
    "    \n",
    "    x: np array of float, input to the function\n",
    "    \n",
    "    Returns:\n",
    "    value: float, value of the function \n",
    "    grad: np array of float, same shape as x\n",
    "    \"\"\"\n",
    "    ...\n",
    "    \n",
    "    return value, grad\n",
    "```\n",
    "\n",
    "Необходимым инструментом во время реализации кода, вычисляющего градиенты, является функция его проверки. Эта функция вычисляет градиент численным методом и сверяет результат с градиентом, вычисленным аналитическим методом.\n",
    "\n",
    "Мы начнем с того, чтобы реализовать вычисление численного градиента (numeric gradient) в функции `check_gradient` в `gradient_check.py`. Эта функция будет принимать на вход функции формата, заданного выше, использовать значение `value` для вычисления численного градиента и сравнит его с аналитическим - они должны сходиться.\n",
    "\n",
    "Напишите часть функции, которая вычисляет градиент с помощью численной производной для каждой координаты. Для вычисления производной используйте так называемую two-point formula (https://en.wikipedia.org/wiki/Numerical_differentiation):\n",
    "\n",
    "![image](https://wikimedia.org/api/rest_v1/media/math/render/svg/22fc2c0a66c63560a349604f8b6b39221566236d)\n",
    "\n",
    "Все функции приведенные в следующей клетке должны проходить gradient check."
   ]
  },
  {
   "cell_type": "code",
   "execution_count": 4,
   "metadata": {
    "collapsed": false,
    "scrolled": true
   },
   "outputs": [
    {
     "name": "stdout",
     "output_type": "stream",
     "text": [
      "<function square at 0x0000018472015268> 3.0\n",
      "9.0000600001 8.999940000099999 6.000000000039306 6.0 (0,)\n",
      "Gradient check passed!\n",
      "<function array_sum at 0x0000018472015D08> 3.0\n",
      "5.00001 4.99999 0.9999999999621422 1.0 (0,)\n",
      "<function array_sum at 0x0000018472015D08> 2.0\n",
      "5.00001 4.99999 0.9999999999621422 1.0 (1,)\n",
      "Gradient check passed!\n",
      "<function array_2d_sum at 0x0000018472015BF8> 3.0\n",
      "6.00001 5.99999 0.9999999999621422 1.0 (0, 0)\n",
      "<function array_2d_sum at 0x0000018472015BF8> 2.0\n",
      "6.00001 5.99999 0.9999999999621422 1.0 (0, 1)\n",
      "<function array_2d_sum at 0x0000018472015BF8> 1.0\n",
      "6.00001 5.99999 0.9999999999621422 1.0 (1, 0)\n",
      "<function array_2d_sum at 0x0000018472015BF8> 0.0\n",
      "6.00001 5.99999 0.9999999999621422 1.0 (1, 1)\n",
      "Gradient check passed!\n"
     ]
    },
    {
     "data": {
      "text/plain": [
       "True"
      ]
     },
     "execution_count": 4,
     "metadata": {},
     "output_type": "execute_result"
    }
   ],
   "source": [
    "# TODO: Implement check_gradient function in gradient_check.py\n",
    "# All the functions below should pass the gradient check\n",
    "\n",
    "def square(x):\n",
    "    return float(x*x), 2*x\n",
    "\n",
    "check_gradient(square, np.array([3.0]))\n",
    "\n",
    "def array_sum(x):\n",
    "    assert x.shape == (2,), x.shape\n",
    "    return np.sum(x), np.ones_like(x)\n",
    "\n",
    "check_gradient(array_sum, np.array([3.0, 2.0]))\n",
    "\n",
    "def array_2d_sum(x):\n",
    "    assert x.shape == (2,2)\n",
    "    return np.sum(x), np.ones_like(x)\n",
    "\n",
    "check_gradient(array_2d_sum, np.array([[3.0, 2.0], [1.0, 0.0]]))"
   ]
  },
  {
   "cell_type": "markdown",
   "metadata": {},
   "source": [
    "## Начинаем писать свои функции, считающие аналитический градиент\n",
    "\n",
    "Теперь реализуем функцию softmax, которая получает на вход оценки для каждого класса и преобразует их в вероятности от 0 до 1:\n",
    "![image](https://wikimedia.org/api/rest_v1/media/math/render/svg/e348290cf48ddbb6e9a6ef4e39363568b67c09d3)\n",
    "\n",
    "**Важно:** Практический аспект вычисления этой функции заключается в том, что в ней учавствует вычисление экспоненты от потенциально очень больших чисел - это может привести к очень большим значениям в числителе и знаменателе за пределами диапазона float.\n",
    "\n",
    "К счастью, у этой проблемы есть простое решение -- перед вычислением softmax вычесть из всех оценок максимальное значение среди всех оценок:\n",
    "```\n",
    "predictions -= np.max(predictions)\n",
    "```\n",
    "(подробнее здесь - http://cs231n.github.io/linear-classify/#softmax, секция `Practical issues: Numeric stability`)"
   ]
  },
  {
   "cell_type": "code",
   "execution_count": 5,
   "metadata": {
    "collapsed": true
   },
   "outputs": [],
   "source": [
    "# TODO Implement softmax and cross-entropy for single sample\n",
    "probs = linear_classifer.softmax(np.array([-10, 0, 10]))\n",
    "\n",
    "# Make sure it works for big numbers too!\n",
    "probs = linear_classifer.softmax(np.array([1000, 0, 0]))\n",
    "assert np.isclose(probs[0], 1.0)"
   ]
  },
  {
   "cell_type": "markdown",
   "metadata": {},
   "source": [
    "Кроме этого, мы реализуем cross-entropy loss, которую мы будем использовать как функцию ошибки (error function).\n",
    "В общем виде cross-entropy определена следующим образом:\n",
    "![image](https://wikimedia.org/api/rest_v1/media/math/render/svg/0cb6da032ab424eefdca0884cd4113fe578f4293)\n",
    "\n",
    "где x - все классы, p(x) - истинная вероятность принадлежности сэмпла классу x, а q(x) - вероятность принадлежности классу x, предсказанная моделью.  \n",
    "В нашем случае сэмпл принадлежит только одному классу, индекс которого передается функции. Для него p(x) равна 1, а для остальных классов - 0. \n",
    "\n",
    "Это позволяет реализовать функцию проще!"
   ]
  },
  {
   "cell_type": "code",
   "execution_count": 6,
   "metadata": {
    "collapsed": false
   },
   "outputs": [
    {
     "data": {
      "text/plain": [
       "5.006760443547121"
      ]
     },
     "execution_count": 6,
     "metadata": {},
     "output_type": "execute_result"
    }
   ],
   "source": [
    "probs = linear_classifer.softmax(np.array([-5, 0, 5]))\n",
    "linear_classifer.cross_entropy_loss(probs, 1)"
   ]
  },
  {
   "cell_type": "markdown",
   "metadata": {},
   "source": [
    "После того как мы реализовали сами функции, мы можем реализовать градиент.\n",
    "\n",
    "Оказывается, что вычисление градиента становится гораздо проще, если объединить эти функции в одну, которая сначала вычисляет вероятности через softmax, а потом использует их для вычисления функции ошибки через cross-entropy loss.\n",
    "\n",
    "Эта функция `softmax_with_cross_entropy` будет возвращает и значение ошибки, и градиент по входным параметрам. Мы проверим корректность реализации с помощью `check_gradient`."
   ]
  },
  {
   "cell_type": "code",
   "execution_count": 58,
   "metadata": {
    "collapsed": false
   },
   "outputs": [
    {
     "name": "stdout",
     "output_type": "stream",
     "text": [
      "analytic_grad 0.2427835514184906\n",
      "analytic_grad -0.12139177572034753\n",
      "analytic_grad -0.12139177572034753\n",
      "Gradient check passed!\n"
     ]
    },
    {
     "data": {
      "text/plain": [
       "True"
      ]
     },
     "execution_count": 58,
     "metadata": {},
     "output_type": "execute_result"
    }
   ],
   "source": [
    "# TODO Implement combined function or softmax and cross entropy and produces gradient\n",
    "loss, grad = linear_classifer.softmax_with_cross_entropy(np.array([1, 0, 0]), 1)\n",
    "check_gradient(lambda x: linear_classifer.softmax_with_cross_entropy(x, 1), np.array([1, 0, 0], np.float))"
   ]
  },
  {
   "cell_type": "markdown",
   "metadata": {},
   "source": [
    "В качестве метода тренировки мы будем использовать стохастический градиентный спуск (stochastic gradient descent или SGD), который работает с батчами сэмплов. \n",
    "\n",
    "Поэтому все наши фукнции будут получать не один пример, а батч, то есть входом будет не вектор из `num_classes` оценок, а матрица размерности `batch_size, num_classes`. Индекс примера в батче всегда будет первым измерением.\n",
    "\n",
    "Следующий шаг - переписать наши функции так, чтобы они поддерживали батчи.\n",
    "\n",
    "Финальное значение функции ошибки должно остаться числом, и оно равно среднему значению ошибки среди всех примеров в батче."
   ]
  },
  {
   "cell_type": "code",
   "execution_count": 64,
   "metadata": {
    "collapsed": false
   },
   "outputs": [
    {
     "name": "stdout",
     "output_type": "stream",
     "text": [
      "analytic_grad -0.003716833685274423\n",
      "analytic_grad 0.00917212821249791\n",
      "analytic_grad -0.009022155866844628\n",
      "analytic_grad -0.0025844864914859045\n",
      "analytic_grad -0.008716833654887068\n",
      "analytic_grad 0.004172128198476344\n",
      "analytic_grad -0.014022155925275113\n",
      "analytic_grad -0.013996419401252068\n",
      "analytic_grad -0.003716833685274423\n",
      "analytic_grad -0.007405334656596096\n",
      "analytic_grad -0.0027746553943330805\n",
      "analytic_grad -0.0025844864914859045\n",
      "analytic_grad 0.006283166253950866\n",
      "analytic_grad 0.00705303189185713\n",
      "analytic_grad 0.01964052298575325\n",
      "analytic_grad 0.00100358068522155\n",
      "analytic_grad 0.0020794167276960707\n",
      "analytic_grad 0.004172128242885265\n",
      "analytic_grad 0.004640523076915315\n",
      "analytic_grad -0.00758448650550747\n",
      "analytic_grad 0.0023114476110919213\n",
      "analytic_grad 0.0009545241486108579\n",
      "analytic_grad 0.002658055731075137\n",
      "analytic_grad 0.020157455660196888\n",
      "analytic_grad 0.0020794167276960707\n",
      "analytic_grad -0.012405334581799819\n",
      "analytic_grad -0.012341944177762796\n",
      "analytic_grad -0.012271985028178277\n",
      "analytic_grad 0.0020794166832871497\n",
      "analytic_grad 0.004172128198476344\n",
      "analytic_grad -0.014022155925275113\n",
      "analytic_grad -0.013996419401252068\n",
      "analytic_grad 0.012079416800148122\n",
      "analytic_grad -0.0024053345981656093\n",
      "analytic_grad -0.002341944194128587\n",
      "analytic_grad -0.003996419417617858\n",
      "analytic_grad 0.01707941676976077\n",
      "analytic_grad 0.0009545241486108579\n",
      "analytic_grad 0.0009778440723806625\n",
      "analytic_grad 0.007415513580966148\n",
      "analytic_grad -0.003716833685274423\n",
      "analytic_grad -0.0029469681805949217\n",
      "analytic_grad -0.007341944296967994\n",
      "analytic_grad 0.010157455676562677\n",
      "analytic_grad 0.007079416697308715\n",
      "analytic_grad 0.00917212821249791\n",
      "analytic_grad 0.00964052304652796\n",
      "analytic_grad -0.0025844864914859045\n",
      "analytic_grad 0.0023114476110919213\n",
      "analytic_grad 0.002594665371447036\n",
      "analytic_grad 0.0072253445893011295\n",
      "analytic_grad 0.0027280149694774987\n",
      "analytic_grad -0.003716833685274423\n",
      "analytic_grad 0.00917212821249791\n",
      "analytic_grad -0.0027746553943330805\n",
      "analytic_grad 0.010157455676562677\n",
      "analytic_grad 0.007079416697308715\n",
      "analytic_grad -0.009045475923841195\n",
      "analytic_grad -0.0027746553943330805\n",
      "analytic_grad -0.008996419298412661\n",
      "analytic_grad 0.006283166253950866\n",
      "analytic_grad 0.00705303189185713\n",
      "analytic_grad 0.0009778440723806625\n",
      "analytic_grad 0.00100358068522155\n",
      "analytic_grad -0.008716833654887068\n",
      "analytic_grad -0.012405334581799819\n",
      "analytic_grad 0.004640523076915315\n",
      "analytic_grad -0.013996419401252068\n",
      "analytic_grad 0.01707941676976077\n",
      "analytic_grad 0.002594665371447036\n",
      "analytic_grad 0.002658055731075137\n",
      "analytic_grad 0.0027280149694774987\n",
      "analytic_grad -0.014149665972240653\n",
      "analytic_grad -0.012405334581799819\n",
      "analytic_grad -0.014022155925275113\n",
      "analytic_grad -0.012271985028178277\n",
      "analytic_grad 0.007079416697308715\n",
      "analytic_grad 0.00917212821249791\n",
      "analytic_grad -0.0027746553943330805\n",
      "analytic_grad 0.010157455676562677\n",
      "analytic_grad -0.003716833685274423\n",
      "analytic_grad 0.00917212821249791\n",
      "analytic_grad -0.00902215595566247\n",
      "analytic_grad 0.010157455676562677\n",
      "analytic_grad -0.003716833685274423\n",
      "analytic_grad -0.0029469681805949217\n",
      "analytic_grad -0.007341944208150152\n",
      "analytic_grad -0.008996419431639424\n",
      "analytic_grad 0.012079416800148122\n",
      "analytic_grad -0.0024053345981656093\n",
      "analytic_grad 0.014640523060549525\n",
      "analytic_grad 0.01515745564617532\n",
      "analytic_grad -0.012688552297746012\n",
      "analytic_grad -0.01240533462620874\n",
      "analytic_grad -0.012341944177762796\n",
      "analytic_grad -0.012271985028178277\n",
      "analytic_grad -0.0026885523141118024\n",
      "analytic_grad 0.014172128270928395\n",
      "analytic_grad -0.0023419442385375078\n",
      "analytic_grad -0.003996419417617858\n",
      "analytic_grad 0.0012831662843382219\n",
      "analytic_grad -0.0024053345981656093\n",
      "analytic_grad -0.002341944194128587\n",
      "analytic_grad 0.01515745564617532\n",
      "analytic_grad 0.0023114476110919213\n",
      "analytic_grad 0.002594665371447036\n",
      "analytic_grad 0.002658055731075137\n",
      "analytic_grad 0.020157455660196888\n",
      "analytic_grad -0.0026885523141118024\n",
      "analytic_grad 0.002053031922244486\n",
      "analytic_grad 0.014640523060549525\n",
      "analytic_grad 0.0024155134781267407\n",
      "analytic_grad 0.01707941676976077\n",
      "analytic_grad 0.002594665371447036\n",
      "analytic_grad 0.0072253445893011295\n",
      "analytic_grad 0.020157455660196888\n",
      "analytic_grad 0.0008503341142329645\n",
      "analytic_grad 0.002594665371447036\n",
      "analytic_grad 0.01964052298575325\n",
      "analytic_grad 0.001003580640812629\n",
      "analytic_grad 0.012079416800148122\n",
      "analytic_grad -0.004045475998637471\n",
      "analytic_grad -0.0023419442385375078\n",
      "analytic_grad 0.0024155134781267407\n",
      "analytic_grad -0.014149665883422811\n",
      "analytic_grad 0.004172128287294186\n",
      "analytic_grad -0.012341944222171717\n",
      "analytic_grad -0.013996419401252068\n",
      "analytic_grad 0.0020794167276960707\n",
      "analytic_grad 0.004172128287294186\n",
      "analytic_grad 0.004640523076915315\n",
      "analytic_grad -0.013996419401252068\n",
      "analytic_grad -0.014149665883422811\n",
      "analytic_grad -0.01404547593786276\n",
      "analytic_grad -0.007774655408354646\n",
      "analytic_grad -0.013996419401252068\n",
      "analytic_grad -0.014149665883422811\n",
      "analytic_grad -0.01404547593786276\n",
      "analytic_grad -0.007774655408354646\n",
      "analytic_grad -0.013996419401252068\n",
      "analytic_grad 0.0020794167721049917\n",
      "analytic_grad -0.01404547593786276\n",
      "analytic_grad 0.004640523076915315\n",
      "analytic_grad 0.0051574557069500315\n",
      "analytic_grad 0.012079416800148122\n",
      "analytic_grad 0.002053031922244486\n",
      "analytic_grad 0.002225344619688485\n",
      "analytic_grad 0.0024155134781267407\n",
      "analytic_grad -0.0041496659441975225\n",
      "analytic_grad 0.014172128270928395\n",
      "analytic_grad 0.002225344664097406\n",
      "analytic_grad 0.0024155134781267407\n",
      "analytic_grad -0.009149665824992326\n",
      "analytic_grad -0.0029469681805949217\n",
      "analytic_grad -0.00902215595566247\n",
      "analytic_grad -0.007271985058565632\n",
      "analytic_grad -0.00871683374370491\n",
      "analytic_grad -0.01240533462620874\n",
      "analytic_grad -0.014022155925275113\n",
      "analytic_grad 0.0051574557069500315\n",
      "analytic_grad 0.0012831662843382219\n",
      "analytic_grad -0.004045475998637471\n",
      "analytic_grad 0.014640523016140604\n",
      "analytic_grad 0.01515745564617532\n",
      "analytic_grad -0.007688552328133368\n",
      "analytic_grad -0.009045475879432274\n",
      "analytic_grad 0.00964052304652796\n",
      "analytic_grad -0.0025844864470769835\n",
      "analytic_grad -0.00871683374370491\n",
      "analytic_grad -0.01240533462620874\n",
      "analytic_grad 0.004640523076915315\n",
      "analytic_grad -0.013996419401252068\n",
      "analytic_grad 0.006283166253950866\n",
      "analytic_grad 0.01917212819613212\n",
      "analytic_grad 0.01964052298575325\n",
      "analytic_grad 0.0027280149694774987\n",
      "analytic_grad -0.003716833685274423\n",
      "analytic_grad -0.0029469681805949217\n",
      "analytic_grad -0.00902215595566247\n",
      "analytic_grad -0.0025844864470769835\n",
      "analytic_grad -0.0041496659441975225\n",
      "analytic_grad 0.002053031922244486\n",
      "analytic_grad -0.002341944194128587\n",
      "analytic_grad 0.0024155134781267407\n",
      "analytic_grad 0.0008503341142329645\n",
      "analytic_grad 0.0009545241486108579\n",
      "analytic_grad 0.002658055731075137\n",
      "analytic_grad 0.007415513580966148\n",
      "analytic_grad 0.006283166253950866\n",
      "analytic_grad 0.002594665371447036\n",
      "analytic_grad 0.0072253445893011295\n",
      "analytic_grad 0.007415513580966148\n",
      "analytic_grad 0.0008503341142329645\n",
      "analytic_grad 0.00705303189185713\n",
      "analytic_grad 0.0072253445893011295\n",
      "analytic_grad 0.0027280149694774987\n",
      "analytic_grad -0.007688552328133368\n",
      "analytic_grad 0.00917212821249791\n",
      "analytic_grad -0.00902215595566247\n",
      "analytic_grad -0.0025844864470769835\n",
      "Gradient check passed!\n"
     ]
    },
    {
     "data": {
      "text/plain": [
       "True"
      ]
     },
     "execution_count": 64,
     "metadata": {},
     "output_type": "execute_result"
    }
   ],
   "source": [
    "# TODO Extend combined function so it can receive a 2d array with batch of samples\n",
    "np.random.seed(42)\n",
    "# Test batch_size = 1\n",
    "num_classes = 4\n",
    "batch_size = 1\n",
    "predictions = np.random.randint(-1, 3, size=(batch_size, num_classes)).astype(np.float)\n",
    "target_index = np.random.randint(0, num_classes, size=(batch_size, 1)).astype(np.int)\n",
    "check_gradient(lambda x: linear_classifer.softmax_with_cross_entropy(x, target_index), predictions)"
   ]
  },
  {
   "cell_type": "code",
   "execution_count": 56,
   "metadata": {
    "collapsed": false
   },
   "outputs": [
    {
     "name": "stdout",
     "output_type": "stream",
     "text": [
      "[[ 1.  2. -1.  1.]]\n"
     ]
    },
    {
     "data": {
      "text/plain": [
       "13.815510557965773"
      ]
     },
     "execution_count": 56,
     "metadata": {},
     "output_type": "execute_result"
    }
   ],
   "source": [
    "print(predictions)\n",
    "linear_classifer.cross_entropy_loss(predictions, target_index)"
   ]
  },
  {
   "cell_type": "code",
   "execution_count": 21,
   "metadata": {
    "collapsed": false
   },
   "outputs": [
    {
     "data": {
      "text/plain": [
       "3"
      ]
     },
     "execution_count": 21,
     "metadata": {},
     "output_type": "execute_result"
    }
   ],
   "source": [
    "predictions.shape[0]"
   ]
  },
  {
   "cell_type": "code",
   "execution_count": 60,
   "metadata": {
    "collapsed": false,
    "scrolled": false
   },
   "outputs": [
    {
     "name": "stdout",
     "output_type": "stream",
     "text": [
      "analytic_grad 0.19349397053503023\n",
      "analytic_grad -0.2265873153994846\n",
      "analytic_grad -0.17899534738852194\n",
      "analytic_grad -0.10870562827669515\n",
      "analytic_grad -0.18997961785949255\n",
      "analytic_grad -0.07700235977736725\n",
      "analytic_grad 0.27465736147647135\n",
      "analytic_grad -0.10870562827669515\n",
      "analytic_grad -0.0035143525867198373\n",
      "analytic_grad 0.30358967508803403\n",
      "analytic_grad -0.09566201404354045\n",
      "analytic_grad 0.21741125650898138\n",
      "Gradient check passed!\n"
     ]
    },
    {
     "data": {
      "text/plain": [
       "True"
      ]
     },
     "execution_count": 60,
     "metadata": {},
     "output_type": "execute_result"
    }
   ],
   "source": [
    "# Test batch_size = 3\n",
    "num_classes = 4\n",
    "batch_size = 3\n",
    "predictions = np.random.randint(-1, 3, size=(batch_size, num_classes)).astype(np.float)\n",
    "target_index = np.random.randint(0, num_classes, size=(batch_size, 1)).astype(np.int)\n",
    "check_gradient(lambda x: linear_classifer.softmax_with_cross_entropy(x, target_index), predictions)"
   ]
  },
  {
   "cell_type": "markdown",
   "metadata": {},
   "source": [
    "### Наконец, реализуем сам линейный классификатор!\n",
    "\n",
    "softmax и cross-entropy получают на вход оценки, которые выдает линейный классификатор.\n",
    "\n",
    "Он делает это очень просто: для каждого класса есть набор весов, на которые надо умножить пиксели картинки и сложить. Получившееся число и является оценкой класса, идущей на вход softmax.\n",
    "\n",
    "Таким образом, линейный классификатор можно представить как умножение вектора с пикселями на матрицу W размера `num_features, num_classes`. Такой подход легко расширяется на случай батча векторов с пикселями X размера `batch_size, num_features`:\n",
    "\n",
    "`predictions = X * W`, где `*` - матричное умножение.\n",
    "\n",
    "Реализуйте функцию подсчета линейного классификатора и градиентов по весам `linear_softmax` в файле `linear_classifer.py`"
   ]
  },
  {
   "cell_type": "code",
   "execution_count": 61,
   "metadata": {
    "collapsed": false
   },
   "outputs": [
    {
     "ename": "Exception",
     "evalue": "Not implemented!",
     "output_type": "error",
     "traceback": [
      "\u001b[0;31m---------------------------------------------------------------------------\u001b[0m",
      "\u001b[0;31mException\u001b[0m                                 Traceback (most recent call last)",
      "\u001b[0;32m<ipython-input-61-23d00c426562>\u001b[0m in \u001b[0;36m<module>\u001b[0;34m()\u001b[0m\n\u001b[1;32m      8\u001b[0m \u001b[0mtarget_index\u001b[0m \u001b[1;33m=\u001b[0m \u001b[0mnp\u001b[0m\u001b[1;33m.\u001b[0m\u001b[0mones\u001b[0m\u001b[1;33m(\u001b[0m\u001b[0mbatch_size\u001b[0m\u001b[1;33m,\u001b[0m \u001b[0mdtype\u001b[0m\u001b[1;33m=\u001b[0m\u001b[0mnp\u001b[0m\u001b[1;33m.\u001b[0m\u001b[0mint\u001b[0m\u001b[1;33m)\u001b[0m\u001b[1;33m\u001b[0m\u001b[1;33m\u001b[0m\u001b[0m\n\u001b[1;32m      9\u001b[0m \u001b[1;33m\u001b[0m\u001b[0m\n\u001b[0;32m---> 10\u001b[0;31m \u001b[0mloss\u001b[0m\u001b[1;33m,\u001b[0m \u001b[0mdW\u001b[0m \u001b[1;33m=\u001b[0m \u001b[0mlinear_classifer\u001b[0m\u001b[1;33m.\u001b[0m\u001b[0mlinear_softmax\u001b[0m\u001b[1;33m(\u001b[0m\u001b[0mX\u001b[0m\u001b[1;33m,\u001b[0m \u001b[0mW\u001b[0m\u001b[1;33m,\u001b[0m \u001b[0mtarget_index\u001b[0m\u001b[1;33m)\u001b[0m\u001b[1;33m\u001b[0m\u001b[1;33m\u001b[0m\u001b[0m\n\u001b[0m\u001b[1;32m     11\u001b[0m \u001b[0mcheck_gradient\u001b[0m\u001b[1;33m(\u001b[0m\u001b[1;32mlambda\u001b[0m \u001b[0mw\u001b[0m\u001b[1;33m:\u001b[0m \u001b[0mlinear_classifer\u001b[0m\u001b[1;33m.\u001b[0m\u001b[0mlinear_softmax\u001b[0m\u001b[1;33m(\u001b[0m\u001b[0mX\u001b[0m\u001b[1;33m,\u001b[0m \u001b[0mw\u001b[0m\u001b[1;33m,\u001b[0m \u001b[0mtarget_index\u001b[0m\u001b[1;33m)\u001b[0m\u001b[1;33m,\u001b[0m \u001b[0mW\u001b[0m\u001b[1;33m)\u001b[0m\u001b[1;33m\u001b[0m\u001b[1;33m\u001b[0m\u001b[0m\n",
      "\u001b[0;32mC:\\Users\\ik\\Documents\\GitHub\\dlcourse_ai\\assignments\\assignment1\\linear_classifer.py\u001b[0m in \u001b[0;36mlinear_softmax\u001b[0;34m(X, W, target_index)\u001b[0m\n\u001b[1;32m    113\u001b[0m \u001b[1;33m\u001b[0m\u001b[0m\n\u001b[1;32m    114\u001b[0m     \u001b[1;31m# TODO implement prediction and gradient over W\u001b[0m\u001b[1;33m\u001b[0m\u001b[1;33m\u001b[0m\u001b[1;33m\u001b[0m\u001b[0m\n\u001b[0;32m--> 115\u001b[0;31m     \u001b[1;32mraise\u001b[0m \u001b[0mException\u001b[0m\u001b[1;33m(\u001b[0m\u001b[1;34m\"Not implemented!\"\u001b[0m\u001b[1;33m)\u001b[0m\u001b[1;33m\u001b[0m\u001b[1;33m\u001b[0m\u001b[0m\n\u001b[0m\u001b[1;32m    116\u001b[0m \u001b[1;33m\u001b[0m\u001b[0m\n\u001b[1;32m    117\u001b[0m     \u001b[1;32mreturn\u001b[0m \u001b[0mloss\u001b[0m\u001b[1;33m,\u001b[0m \u001b[0mdW\u001b[0m\u001b[1;33m\u001b[0m\u001b[1;33m\u001b[0m\u001b[0m\n",
      "\u001b[0;31mException\u001b[0m: Not implemented!"
     ]
    }
   ],
   "source": [
    "# TODO Implement linear_softmax function that uses softmax with cross-entropy for linear classifier\n",
    "batch_size = 2\n",
    "num_classes = 2\n",
    "num_features = 3\n",
    "np.random.seed(42)\n",
    "W = np.random.randint(-1, 3, size=(num_features, num_classes)).astype(np.float)\n",
    "X = np.random.randint(-1, 3, size=(batch_size, num_features)).astype(np.float)\n",
    "target_index = np.ones(batch_size, dtype=np.int)\n",
    "\n",
    "loss, dW = linear_classifer.linear_softmax(X, W, target_index)\n",
    "check_gradient(lambda w: linear_classifer.linear_softmax(X, w, target_index), W)"
   ]
  },
  {
   "cell_type": "markdown",
   "metadata": {},
   "source": [
    "### И теперь регуляризация\n",
    "\n",
    "Мы будем использовать L2 regularization для весов как часть общей функции ошибки.\n",
    "\n",
    "Напомним, L2 regularization определяется как\n",
    "\n",
    "l2_reg_loss = regularization_strength * sum<sub>ij</sub> W[i, j]<sup>2</sup>\n",
    "\n",
    "Реализуйте функцию для его вычисления и вычисления соотвествующих градиентов."
   ]
  },
  {
   "cell_type": "code",
   "execution_count": null,
   "metadata": {
    "collapsed": true
   },
   "outputs": [],
   "source": [
    "# TODO Implement l2_regularization function that implements loss for L2 regularization\n",
    "linear_classifer.l2_regularization(W, 0.01)\n",
    "check_gradient(lambda w: linear_classifer.l2_regularization(w, 0.01), W)"
   ]
  },
  {
   "cell_type": "markdown",
   "metadata": {},
   "source": [
    "# Тренировка!"
   ]
  },
  {
   "cell_type": "markdown",
   "metadata": {},
   "source": [
    "Градиенты в порядке, реализуем процесс тренировки!"
   ]
  },
  {
   "cell_type": "code",
   "execution_count": null,
   "metadata": {
    "collapsed": true,
    "scrolled": false
   },
   "outputs": [],
   "source": [
    "# TODO: Implement LinearSoftmaxClassifier.fit function\n",
    "classifier = linear_classifer.LinearSoftmaxClassifier()\n",
    "loss_history = classifier.fit(train_X, train_y, epochs=10, learning_rate=1e-3, batch_size=300, reg=1e1)"
   ]
  },
  {
   "cell_type": "code",
   "execution_count": null,
   "metadata": {
    "collapsed": true
   },
   "outputs": [],
   "source": [
    "# let's look at the loss history!\n",
    "plt.plot(loss_history)"
   ]
  },
  {
   "cell_type": "code",
   "execution_count": null,
   "metadata": {
    "collapsed": true
   },
   "outputs": [],
   "source": [
    "# Let's check how it performs on validation set\n",
    "pred = classifier.predict(val_X)\n",
    "accuracy = multiclass_accuracy(pred, val_y)\n",
    "print(\"Accuracy: \", accuracy)\n",
    "\n",
    "# Now, let's train more and see if it performs better\n",
    "classifier.fit(train_X, train_y, epochs=100, learning_rate=1e-3, batch_size=300, reg=1e1)\n",
    "pred = classifier.predict(val_X)\n",
    "accuracy = multiclass_accuracy(pred, val_y)\n",
    "print(\"Accuracy after training for 100 epochs: \", accuracy)"
   ]
  },
  {
   "cell_type": "markdown",
   "metadata": {},
   "source": [
    "### Как и раньше, используем кросс-валидацию для подбора гиперпараметтов.\n",
    "\n",
    "В этот раз, чтобы тренировка занимала разумное время, мы будем использовать только одно разделение на тренировочные (training) и проверочные (validation) данные.\n",
    "\n",
    "Теперь нам нужно подобрать не один, а два гиперпараметра! Не ограничивайте себя изначальными значениями в коде.  \n",
    "Добейтесь точности более чем **20%** на проверочных данных (validation data)."
   ]
  },
  {
   "cell_type": "code",
   "execution_count": null,
   "metadata": {
    "collapsed": true
   },
   "outputs": [],
   "source": [
    "num_epochs = 200\n",
    "batch_size = 300\n",
    "\n",
    "learning_rates = [1e-3, 1e-4, 1e-5]\n",
    "reg_strengths = [1e-4, 1e-5, 1e-6]\n",
    "\n",
    "best_classifier = None\n",
    "best_val_accuracy = None\n",
    "\n",
    "# TODO use validation set to find the best hyperparameters\n",
    "# hint: for best results, you might need to try more values for learning rate and regularization strength \n",
    "# than provided initially\n",
    "\n",
    "print('best validation accuracy achieved: %f' % best_val_accuracy)"
   ]
  },
  {
   "cell_type": "markdown",
   "metadata": {},
   "source": [
    "# Какой же точности мы добились на тестовых данных?"
   ]
  },
  {
   "cell_type": "code",
   "execution_count": null,
   "metadata": {
    "collapsed": true
   },
   "outputs": [],
   "source": [
    "test_pred = best_classifier.predict(test_X)\n",
    "test_accuracy = multiclass_accuracy(test_pred, test_y)\n",
    "print('Linear softmax classifier test set accuracy: %f' % (test_accuracy, ))"
   ]
  }
 ],
 "metadata": {
  "kernelspec": {
   "display_name": "Python 3",
   "language": "python",
   "name": "python3"
  },
  "language_info": {
   "codemirror_mode": {
    "name": "ipython",
    "version": 3
   },
   "file_extension": ".py",
   "mimetype": "text/x-python",
   "name": "python",
   "nbconvert_exporter": "python",
   "pygments_lexer": "ipython3",
   "version": "3.6.7"
  }
 },
 "nbformat": 4,
 "nbformat_minor": 2
}
