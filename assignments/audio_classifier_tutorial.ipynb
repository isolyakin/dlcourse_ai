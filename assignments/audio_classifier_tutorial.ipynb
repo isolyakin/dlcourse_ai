{
 "cells": [
  {
   "cell_type": "code",
   "execution_count": null,
   "metadata": {
    "collapsed": false
   },
   "outputs": [],
   "source": [
    "%matplotlib inline"
   ]
  },
  {
   "cell_type": "markdown",
   "metadata": {},
   "source": [
    "\n",
    "Audio Classifier Tutorial\n",
    "=========================\n",
    "**Author**: `Winston Herring <https://github.com/winston6>`_\n",
    "\n",
    "This tutorial will show you how to correctly format an audio dataset and\n",
    "then train/test an audio classifier network on the dataset. First, let’s\n",
    "import the common torch packages as well as ``torchaudio``, ``pandas``,\n",
    "and ``numpy``. ``torchaudio`` is available `here <https://github.com/pytorch/audio>`_\n",
    "and can be installed by following the\n",
    "instructions on the website.\n",
    "\n",
    "\n"
   ]
  },
  {
   "cell_type": "markdown",
   "metadata": {},
   "source": [
    "Let’s check if a CUDA GPU is available and select our device. Running\n",
    "the network on a GPU will greatly decrease the training/testing runtime.\n",
    "\n",
    "\n"
   ]
  },
  {
   "cell_type": "markdown",
   "metadata": {},
   "source": [
    "Importing the Dataset\n",
    "---------------------\n",
    "\n",
    "We will use the UrbanSound8K dataset to train our network. It is\n",
    "available for free `here <https://urbansounddataset.weebly.com/>`_ and contains\n",
    "10 audio classes with over 8000 audio samples! Once you have downloaded\n",
    "the compressed dataset, extract it to your current working directory.\n",
    "First, we will look at the csv file that provides information about the\n",
    "individual sound files. ``pandas`` allows us to open the csv file and\n",
    "use ``.iloc()`` to access the data within it.\n",
    "\n",
    "\n"
   ]
  },
  {
   "cell_type": "markdown",
   "metadata": {},
   "source": [
    "The 10 audio classes in the UrbanSound8K dataset are air_conditioner,\n",
    "car_horn, children_playing, dog_bark, drilling, enginge_idling,\n",
    "gun_shot, jackhammer, siren, and street_music. Let’s play a couple files\n",
    "and see what they sound like. The first file is street music and the\n",
    "second is an air conditioner.\n",
    "\n",
    "\n"
   ]
  },
  {
   "cell_type": "markdown",
   "metadata": {},
   "source": [
    "Formatting the Data\n",
    "-------------------\n",
    "\n",
    "Now that we know the format of the csv file entries, we can construct\n",
    "our dataset. We will create a rapper class for our dataset using\n",
    "``torch.utils.data.Dataset`` that will handle loading the files and\n",
    "performing some formatting steps. The UrbanSound8K dataset is separated\n",
    "into 10 folders. We will use the data from 9 of these folders to train\n",
    "our network and then use the 10th folder to test the network. The rapper\n",
    "class will store the file names, labels, and folder numbers of the audio\n",
    "files in the inputted folder list when initialized. The actual loading\n",
    "and formatting steps will happen in the access function ``__getitem__``.\n",
    "\n",
    "In ``__getitem__``, we use ``torchaudio.load()`` to convert the wav\n",
    "files to tensors. ``torchaudio.load()`` returns a tuple containing the\n",
    "newly created tensor along with the sampling frequency of the audio file\n",
    "(44.1kHz for UrbanSound8K). The dataset uses two channels for audio so\n",
    "we will use ``torchaudio.transforms.DownmixMono()`` to convert the audio\n",
    "data to one channel. Next, we need to format the audio data. The network\n",
    "we will make takes an input size of 32,000, while most of the audio\n",
    "files have well over 100,000 samples. The UrbanSound8K audio is sampled\n",
    "at 44.1kHz, so 32,000 samples only covers around 700 milliseconds. By\n",
    "downsampling the audio to aproximately 8kHz, we can represent 4 seconds\n",
    "with the 32,000 samples. This downsampling is achieved by taking every\n",
    "fifth sample of the original audio tensor. Not every audio tensor is\n",
    "long enough to handle the downsampling so these tensors will need to be\n",
    "padded with zeros. The minimum length that won’t require padding is\n",
    "160,000 samples.\n",
    "\n",
    "\n"
   ]
  },
  {
   "cell_type": "code",
   "execution_count": null,
   "metadata": {
    "collapsed": false
   },
   "outputs": [],
   "source": [
    "#rapper for the UrbanSound8K dataset"
   ]
  },
  {
   "cell_type": "markdown",
   "metadata": {},
   "source": [
    "Define the Network\n",
    "------------------\n",
    "\n",
    "For this tutorial we will use a convolutional neural network to process\n",
    "the raw audio data. Usually more advanced transforms are applied to the\n",
    "audio data, however CNNs can be used to accurately process the raw data.\n",
    "The specific architecture is modeled after the M5 network architecture\n",
    "described in https://arxiv.org/pdf/1610.00087.pdf. An important aspect\n",
    "of models processing raw audio data is the receptive field of their\n",
    "first layer’s filters. Our model’s first filter is length 80 so when\n",
    "processing audio sampled at 8kHz the receptive field is around 10ms.\n",
    "This size is similar to speech processing applications that often use\n",
    "receptive fields ranging from 20ms to 40ms.\n",
    "\n",
    "\n"
   ]
  },
  {
   "cell_type": "markdown",
   "metadata": {},
   "source": [
    "We will use the same optimization technique used in the paper, an Adam\n",
    "optimizer with weight decay set to 0.0001. At first, we will train with\n",
    "a learning rate of 0.01, but we will use a ``scheduler`` to decrease it\n",
    "to 0.001 during training.\n",
    "\n",
    "\n"
   ]
  },
  {
   "cell_type": "markdown",
   "metadata": {},
   "source": [
    "Training and Testing the Network\n",
    "--------------------------------\n",
    "\n",
    "Now let’s define a training function that will feed our training data\n",
    "into the model and perform the backward pass and optimization steps.\n",
    "\n",
    "\n"
   ]
  },
  {
   "cell_type": "markdown",
   "metadata": {},
   "source": [
    "Now that we have a training function, we need to make one for testing\n",
    "the networks accuracy. We will set the model to ``eval()`` mode and then\n",
    "run inference on the test dataset. Calling ``eval()`` sets the training\n",
    "variable in all modules in the network to false. Certain layers like\n",
    "batch normalization and dropout layers behave differently during\n",
    "training so this step is crucial for getting correct results.\n",
    "\n",
    "\n"
   ]
  },
  {
   "cell_type": "markdown",
   "metadata": {},
   "source": [
    "Finally, we can train and test the network. We will train the network\n",
    "for ten epochs then reduce the learn rate and train for ten more epochs.\n",
    "The network will be tested after each epoch to see how the accuracy\n",
    "varies during the training.\n",
    "\n",
    "<div class=\"alert alert-info\"><h4>Note</h4><p>Due to a build issue, we've reduced the number of epochs to 10.\n",
    "          Run this sample with 40 locally to get the proper values.</p></div>\n",
    "\n",
    "\n"
   ]
  },
  {
   "cell_type": "markdown",
   "metadata": {},
   "source": [
    "Conclusion\n",
    "----------\n",
    "\n",
    "If trained on 9 folders, the network should be more than 50% accurate by\n",
    "the end of the training process. Training on less folders will result in\n",
    "a lower overall accuracy but may be necessary if long runtimes are a\n",
    "problem. Greater accuracies can be achieved using deeper CNNs at the\n",
    "expense of a larger memory footprint.\n",
    "\n",
    "For more advanced audio applications, such as speech recognition,\n",
    "recurrent neural networks (RNNs) are commonly used. There are also other\n",
    "data preprocessing methods, such as finding the mel frequency cepstral\n",
    "coefficients (MFCC), that can reduce the size of the dataset.\n",
    "\n",
    "\n"
   ]
  },
  {
   "cell_type": "code",
   "execution_count": null,
   "metadata": {
    "collapsed": false
   },
   "outputs": [],
   "source": [
    "# %%%%%%RUNNABLE_CODE_REMOVED%%%%%%"
   ]
  }
 ],
 "metadata": {
  "kernelspec": {
   "display_name": "Python 3",
   "language": "python",
   "name": "python3"
  },
  "language_info": {
   "codemirror_mode": {
    "name": "ipython",
    "version": 3
   },
   "file_extension": ".py",
   "mimetype": "text/x-python",
   "name": "python",
   "nbconvert_exporter": "python",
   "pygments_lexer": "ipython3",
   "version": "3.6.7"
  }
 },
 "nbformat": 4,
 "nbformat_minor": 0
}
